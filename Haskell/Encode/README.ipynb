{
 "cells": [
  {
   "cell_type": "markdown",
   "metadata": {},
   "source": [
    "<img src=\"../../encode-arabic.png\" align=\"right\" width=\"10%\">\n",
    "\n",
    "# Encode Arabic / Haskell"
   ]
  },
  {
   "cell_type": "markdown",
   "metadata": {},
   "source": [
    "You can enjoy the [Haskell library of Encode Arabic](http://github.com/otakar-smrz/encode-arabic/tree/master/Haskell/Encode) from within [IHaskell](http://github.com/gibiansky/IHaskell) in [Jupyter Notebook](http://jupyter.org), the [Haskell Platform](https://www.haskell.org/platform), or even [Hugs](https://wiki.haskell.org/Hugs).\n",
    "\n",
    "    cabal install\n",
    "    jupyter notebook README.ipynb\n",
    "\n",
    "This notebook focuses on using Encode Arabic from within Haskell. You can also consult the [Encode Arabic / Python](http://github.com/otakar-smrz/encode-arabic/tree/master/Python/Encode/README.ipynb) notebook."
   ]
  },
  {
   "cell_type": "code",
   "execution_count": 1,
   "metadata": {
    "collapsed": false
   },
   "outputs": [
    {
     "data": {
      "text/plain": [
       "~"
      ]
     },
     "metadata": {},
     "output_type": "display_data"
    }
   ],
   "source": [
    ":! cd ~\n",
    ":! pwd | perl -pe 's{'$HOME'}''{~}'"
   ]
  },
  {
   "cell_type": "code",
   "execution_count": 2,
   "metadata": {
    "collapsed": false,
    "scrolled": true
   },
   "outputs": [
    {
     "data": {
      "text/plain": [
       "Encode Arabic (C) 2016-2005 Otakar Smrz\n",
       "GNU General Public License http://www.gnu.org/licenses/\n",
       "\n",
       "Encode Arabic 1.3.9 June 2016"
      ]
     },
     "metadata": {},
     "output_type": "display_data"
    },
    {
     "data": {
      "text/plain": [
       "Encode Arabic (C) 2016-2005 Otakar Smrz\n",
       "GNU General Public License http://www.gnu.org/licenses/\n",
       "\n",
       "           http://github.com/otakar-smrz/encode-arabic/\n",
       "                           http://encode-arabic.sf.net/\n",
       "                             <otakar-smrz users.sf.net>\n",
       "\n",
       "decode [--OPTIONS] [ENCODING]\n",
       "\n",
       "  -h       --help         show usage information\n",
       "  -l       --lines        use line-oriented mode\n",
       "  -p text  --prefix=text  prefix input with text\n",
       "  -s text  --suffix=text  suffix input with text\n",
       "  -v       --version      show program's version"
      ]
     },
     "metadata": {},
     "output_type": "display_data"
    }
   ],
   "source": [
    ":! encode --version\n",
    ":! decode --help"
   ]
  },
  {
   "cell_type": "code",
   "execution_count": 3,
   "metadata": {
    "collapsed": false
   },
   "outputs": [
    {
     "data": {
      "text/plain": [
       "Version {versionBranch = [1,3,9], versionTags = [\"June 2016\"]}"
      ]
     },
     "metadata": {},
     "output_type": "display_data"
    }
   ],
   "source": [
    "import Encode.Version\n",
    "\n",
    "version"
   ]
  },
  {
   "cell_type": "code",
   "execution_count": 4,
   "metadata": {
    "collapsed": true
   },
   "outputs": [],
   "source": [
    "import Encode"
   ]
  },
  {
   "cell_type": "code",
   "execution_count": 5,
   "metadata": {
    "collapsed": false
   },
   "outputs": [
    {
     "data": {},
     "metadata": {},
     "output_type": "display_data"
    }
   ],
   "source": [
    ":i Encoding"
   ]
  },
  {
   "cell_type": "code",
   "execution_count": 6,
   "metadata": {
    "collapsed": true
   },
   "outputs": [],
   "source": [
    "import Encode.Arabic"
   ]
  },
  {
   "cell_type": "code",
   "execution_count": 7,
   "metadata": {
    "collapsed": false
   },
   "outputs": [
    {
     "data": {},
     "metadata": {},
     "output_type": "display_data"
    }
   ],
   "source": [
    ":i Encoding"
   ]
  },
  {
   "cell_type": "code",
   "execution_count": 8,
   "metadata": {
    "collapsed": false
   },
   "outputs": [
    {
     "data": {
      "text/plain": [
       "['\\1571','\\1614','\\1607','\\1604','\\1611','\\1575',' ','\\1608','\\1614','\\1587','\\1614','\\1607','\\1604','\\1611','\\1575']"
      ]
     },
     "metadata": {},
     "output_type": "display_data"
    }
   ],
   "source": [
    "decode TeX \"'ahlaN wa-sahlaN\""
   ]
  },
  {
   "cell_type": "code",
   "execution_count": 9,
   "metadata": {
    "collapsed": false
   },
   "outputs": [
    {
     "data": {
      "text/plain": [
       "\"OahlFA wasahlFA\""
      ]
     },
     "metadata": {},
     "output_type": "display_data"
    }
   ],
   "source": [
    "encode Tim $ decode TeX \"'ahlaN wa-sahlaN\""
   ]
  },
  {
   "cell_type": "code",
   "execution_count": 10,
   "metadata": {
    "collapsed": false
   },
   "outputs": [
    {
     "data": {
      "text/plain": [
       "\"\\194ahl\\227A wasahl\\227A\""
      ]
     },
     "metadata": {},
     "output_type": "display_data"
    }
   ],
   "source": [
    "encode Habash $ decode Buckwalter \"OahlFA wasahlFA\""
   ]
  },
  {
   "cell_type": "code",
   "execution_count": 11,
   "metadata": {
    "collapsed": false
   },
   "outputs": [
    {
     "data": {
      "text/plain": [
       "\"\\216\\163\\217\\142\\217\\135\\217\\132\\217\\139\\216\\167 \\217\\136\\217\\142\\216\\179\\217\\142\\217\\135\\217\\132\\217\\139\\216\\167\""
      ]
     },
     "metadata": {},
     "output_type": "display_data"
    }
   ],
   "source": [
    "encode UTF $ decode TeX \"'ahlaN wa-sahlaN\""
   ]
  },
  {
   "cell_type": "code",
   "execution_count": 12,
   "metadata": {
    "collapsed": false
   },
   "outputs": [
    {
     "data": {
      "text/plain": [
       "\"\\1571\\1614\\1607\\1604\\1611\\1575 \\1608\\1614\\1587\\1614\\1607\\1604\\1611\\1575\""
      ]
     },
     "metadata": {},
     "output_type": "display_data"
    }
   ],
   "source": [
    "encode UCS $ decode TeX \"'ahlaN wa-sahlaN\""
   ]
  },
  {
   "cell_type": "code",
   "execution_count": 13,
   "metadata": {
    "collapsed": false
   },
   "outputs": [
    {
     "data": {
      "text/plain": [
       "Ø£ÙÙÙÙØ§ ÙÙØ³ÙÙÙÙØ§"
      ]
     },
     "metadata": {},
     "output_type": "display_data"
    }
   ],
   "source": [
    "putStr $ encode UCS $ decode TeX \"'ahlaN wa-sahlaN\""
   ]
  },
  {
   "cell_type": "code",
   "execution_count": 14,
   "metadata": {
    "collapsed": false
   },
   "outputs": [
    {
     "data": {
      "text/plain": [
       "Ø£ÙÙÙÙØ§ ÙÙØ³ÙÙÙÙØ§"
      ]
     },
     "metadata": {},
     "output_type": "display_data"
    }
   ],
   "source": [
    ":! echo \"'ahlaN wa-sahlaN\" | decode tex"
   ]
  },
  {
   "cell_type": "markdown",
   "metadata": {},
   "source": [
    "Unicode does not show properly [with IHaskell](https://github.com/gibiansky/IHaskell/issues/546) only. It does not affect the functionality of Encode Arabic."
   ]
  }
 ],
 "metadata": {
  "kernelspec": {
   "display_name": "Haskell",
   "language": "haskell",
   "name": "haskell"
  },
  "language_info": {
   "codemirror_mode": "ihaskell",
   "file_extension": ".hs",
   "name": "haskell",
   "version": "7.10.3"
  }
 },
 "nbformat": 4,
 "nbformat_minor": 0
}
